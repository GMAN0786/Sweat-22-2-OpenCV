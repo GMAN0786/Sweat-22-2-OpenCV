{
 "cells": [
  {
   "cell_type": "code",
   "execution_count": 3,
   "metadata": {},
   "outputs": [
    {
     "data": {
      "text/plain": [
       "'4.6.0'"
      ]
     },
     "execution_count": 3,
     "metadata": {},
     "output_type": "execute_result"
    }
   ],
   "source": [
    "import cv2\n",
    "cv2.__version__"
   ]
  },
  {
   "cell_type": "code",
   "execution_count": null,
   "metadata": {},
   "outputs": [],
   "source": []
  },
  {
   "cell_type": "markdown",
   "metadata": {},
   "source": [
    "이미지를 표시하기"
   ]
  },
  {
   "cell_type": "code",
   "execution_count": 6,
   "metadata": {},
   "outputs": [],
   "source": [
    "import cv2\n",
    "img_file = \"./book.jpg\" # 표시할 이미지의 경로를 변수에 저장\n",
    "img = cv2.imread(img_file) #opencv의 메서드를 활용해 이미지를 읽은 뒤 변수에 저장\n",
    "\n",
    "if img is not None: # 만약 img가 비어있지 않다면\n",
    "    cv2.imshow('IMG',img) #'IMG'라는 이미지를 표시한다\n",
    "    cv2.waitKey() # 키가 입력될 때 까지 대기함. (변수 입력시 N msec 까지 대기)\n",
    "    cv2.destroyAllWindows() # 모든 창을 닫기\n",
    "else:\n",
    "    print(\"No image file\")"
   ]
  },
  {
   "cell_type": "markdown",
   "metadata": {},
   "source": [
    "회색조로 표시하기"
   ]
  },
  {
   "cell_type": "code",
   "execution_count": 7,
   "metadata": {},
   "outputs": [],
   "source": [
    "import cv2\n",
    "img_file = \"./book.jpg\" # 표시할 이미지의 경로를 변수에 저장\n",
    "img = cv2.imread(img_file,cv2.IMREAD_GRAYSCALE) #opencv의 메서드를 활용해 이미지를 읽은 뒤 변수에 저장\n",
    "\n",
    "if img is not None: # 만약 img가 비어있지 않다면\n",
    "    cv2.imshow('IMG',img) #'IMG'라는 이미지를 표시한다\n",
    "    cv2.waitKey() # 키가 입력될 때 까지 대기함. (변수 입력시 N msec 까지 대기)\n",
    "    cv2.destroyAllWindows() # 모든 창을 닫기\n",
    "    cv2.waitKey(1) #Mac용 Exit Code\n",
    "else:\n",
    "    print(\"No image file\")"
   ]
  },
  {
   "cell_type": "markdown",
   "metadata": {},
   "source": [
    "## OpenCV활용하여 이미지를 저장하기\n",
    "# cv2.imwrite(filename,img[,params])\n",
    " filename: 저장할 파일 이름\n",
    " img : 이미지 파일\n",
    " params : IMWRITE_JEPG_QUALITY,IMWRITE_WEBP_QUALITY, IMWRITE_PNG_COMPRESSION, IMWRITE_PXM_BINARY"
   ]
  },
  {
   "cell_type": "code",
   "execution_count": 9,
   "metadata": {},
   "outputs": [],
   "source": [
    "import cv2\n",
    "img_file = \"./book.jpg\" # 표시할 이미지의 경로를 변수에 저장\n",
    "save_file = \"./book_gray.jpg\"\n",
    "img = cv2.imread(img_file,cv2.IMREAD_GRAYSCALE) #opencv의 메서드를 활용해 이미지를 읽은 뒤 변수에 저장\n",
    "\n",
    "if img is not None: # 만약 img가 비어있지 않다면\n",
    "    cv2.imshow('IMG',img) #'IMG'라는 이미지를 표시한다\n",
    "    cv2.waitKey() # 키가 입력될 때 까지 대기함. (변수 입력시 N msec 까지 대기)\n",
    "    cv2.destroyAllWindows() # 모든 창을 닫기\n",
    "    cv2.imwrite(save_file, img)\n",
    "else:\n",
    "    print(\"No image file\")"
   ]
  },
  {
   "cell_type": "markdown",
   "metadata": {},
   "source": [
    "# 동영상 읽기"
   ]
  },
  {
   "cell_type": "code",
   "execution_count": 5,
   "metadata": {},
   "outputs": [],
   "source": [
    "import cv2\n",
    "\n",
    "video_file = \"./squ.mp4\" # 동영상 파일 주소\n",
    "\n",
    "cap = cv2.VideoCapture(video_file) # 동영상 캡쳐 객체 생성 (동영상 파일을 입력)\n",
    "if cap.isOpened(): # cap의 초기화를 확인하는 단계\n",
    "   while True:\n",
    "        ret, img=cap.read() #ret(리턴값)에 cap이 동영상 캡처에 성공하면 1반환 아니면 0\n",
    "        if ret:\n",
    "            img = cv2.flip(img,0)\n",
    "            cv2.imshow(video_file, img) #화면에 보여준다\n",
    "            cv2.waitKey(25) #25ms 대기한다\n",
    "        else: #더이상의 반복문이 없을 경우\n",
    "            break #반복문 탈출\n",
    "else:\n",
    "    print(\"can't open Video :(\")\n",
    "\n",
    "cap.release() #캡처 인스턴스 반환\n",
    "cv2.destroyAllWindows() #모든 창 닫기\n",
    "#cv2.waitkey(1)\n"
   ]
  },
  {
   "cell_type": "markdown",
   "metadata": {},
   "source": [
    "웹캠 카메라 접근하기"
   ]
  },
  {
   "cell_type": "code",
   "execution_count": 4,
   "metadata": {},
   "outputs": [
    {
     "data": {
      "text/plain": [
       "-1"
      ]
     },
     "execution_count": 4,
     "metadata": {},
     "output_type": "execute_result"
    }
   ],
   "source": [
    "import cv2\n",
    "\n",
    "cap=cv2.VideoCapture(0) #0이라는 숫자는 pc 내장 카메라를 연결할 수 있도록 지정된 파라미터\n",
    "if cap.isOpened(): #비디오 캡쳐 객체가 초기화 되었는지 확인\n",
    "    while True:\n",
    "        ret, img = cap.read()\n",
    "        if ret:\n",
    "            cv2.imshow('camera',img)\n",
    "            if cv2.waitKey(1) != -1:\n",
    "                # waitKey가 ASCII code를 반환하는 점을 이용해 waitKey가 default로 -1을 출력함을 이용\n",
    "                break\n",
    "        else:\n",
    "            print('No frame')\n",
    "            break\n",
    "else:\n",
    "    print(\"Can't open Camera\")\n",
    "cap.release()\n",
    "cv2.destroyAllWindows()\n",
    "cv2.waitKey(1)\n"
   ]
  },
  {
   "cell_type": "markdown",
   "metadata": {},
   "source": [
    "웹캡 동영상 사진 찍기"
   ]
  },
  {
   "cell_type": "code",
   "execution_count": 2,
   "metadata": {},
   "outputs": [
    {
     "data": {
      "text/plain": [
       "-1"
      ]
     },
     "execution_count": 2,
     "metadata": {},
     "output_type": "execute_result"
    }
   ],
   "source": [
    "import cv2\n",
    "\n",
    "cap=cv2.VideoCapture(0) #0이라는 숫자는 pc 내장 카메라를 연결할 수 있도록 지정된 파라미터\n",
    "if cap.isOpened(): #비디오 캡쳐 객체가 초기화 되었는지 확인\n",
    "    while True:\n",
    "        ret, img = cap.read() #frame이 제대로 읽히면 ret가 참, 그렇지 않으면 거짓\n",
    "        if ret:\n",
    "            cv2.imshow('camera',img)\n",
    "            if cv2.waitKey(1) != -1:\n",
    "                # waitKey가 ASCII code를 반환하는 점을 이용해 waitKey가 default로 -1을 출력함을 이용\n",
    "                cv2.imwrite(\"./photo.jpg\",img)\n",
    "                break\n",
    "        else:\n",
    "            print('No frame')\n",
    "            break\n",
    "else:\n",
    "    print(\"Can't open Camera\")\n",
    "cap.release()\n",
    "cv2.destroyAllWindows()\n",
    "cv2.waitKey(1)"
   ]
  }
 ],
 "metadata": {
  "kernelspec": {
   "display_name": "Python 3.11.0 64-bit",
   "language": "python",
   "name": "python3"
  },
  "language_info": {
   "codemirror_mode": {
    "name": "ipython",
    "version": 3
   },
   "file_extension": ".py",
   "mimetype": "text/x-python",
   "name": "python",
   "nbconvert_exporter": "python",
   "pygments_lexer": "ipython3",
   "version": "3.11.0"
  },
  "orig_nbformat": 4,
  "vscode": {
   "interpreter": {
    "hash": "73632f12eda0572492ccc82899b0fdd167f69eeb3923bc5681be9ad5520a0ab7"
   }
  }
 },
 "nbformat": 4,
 "nbformat_minor": 2
}
